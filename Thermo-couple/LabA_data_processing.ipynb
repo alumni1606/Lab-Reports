{
 "cells": [
  {
   "cell_type": "markdown",
   "metadata": {
    "id": "n-i79zwYulbC"
   },
   "source": [
    "<div dir=\"rtl\" lang=\"he\" xml:lang=\"he\">\n",
    "<font size=6> עיבוד נתונים - מעבדה א'</font>\n",
    "\n",
    "<font size=5> מחברת colab גנרית</font>\n",
    "\n",
    "---\n",
    "מחברת זו הינה template לעיבוד נתונים במסגרת הקורס מעבדה א'. מצורפים הסברים לכל מקטעי הקוד, ולינקים עם הרחבות למעוניינים. אנו מקווים שהיא תשמש אתכם נאמנה, ותקנה לכם כלים לעיבוד וניתוח נתונים מדעי, אולי גם מחוץ לכותלי הקורס.\n",
    "\n",
    "כמה הנחיות לשימוש:\n",
    "המחברת מחולקת למספר פרקים, רצוי להריץ את הבלוקים לפי הסדר (שכן לרוב הם מבוססים אחד על קודמיו). עליכם לשנות את הקוד אך ורק   במקומות המסומנים באמצעות הערה, כלומר ` comment #` .\n",
    "\n",
    "אנו זמינים לשאלות, ופתוחים להצעות לשיפור!\n",
    "\n",
    "בהצלחה רבה!\n",
    "\n",
    "צוות המעבדה\n",
    "\n",
    "---\n",
    "<h1>\n",
    "<font size=5><b>1. ייבוא חבילות</b></font>\n",
    "</h1>\n",
    "\n",
    "תחילה, נייבא מספר חבילות פייתון  (Python packages) בהן נשתמש בתהליך עיבוד הנתונים.\n",
    "\n",
    "החבילה Numpy משמשת בעיקר  לביצוע ביעילות פעולות על מערכים,\n",
    " ואילו SciPy, אשר מתבסס על NumPy, מציע פונקציונליות נוספת לאופטימיזציה, וכו'.\n",
    "החבילה Pandas חיונית לניתוח נתונים, מספקת מבני נתונים גמישים ושימושיים כמו DataFrames ומאפשרת ביצוע מניפולציות על הדאטא.\n",
    "\n",
    "---\n",
    "\n",
    "\n",
    "\n",
    "\n"
   ]
  },
  {
   "cell_type": "code",
   "execution_count": 1,
   "metadata": {
    "executionInfo": {
     "elapsed": 813,
     "status": "ok",
     "timestamp": 1741525620255,
     "user": {
      "displayName": "Tom Sayada",
      "userId": "05893308858574496098"
     },
     "user_tz": -120
    },
    "id": "tL0s650If3lA"
   },
   "outputs": [],
   "source": [
    "import pandas as pd\n",
    "import numpy as np\n",
    "import matplotlib.pyplot as plt\n",
    "from scipy import stats\n",
    "from scipy.odr import Model, ODR, RealData"
   ]
  },
  {
   "cell_type": "markdown",
   "metadata": {
    "id": "SwbzesVCXEK-"
   },
   "source": [
    "<div dir=\"rtl\" lang=\"he\" xml:lang=\"he\">\n",
    "\n",
    "---\n",
    "<h1>\n",
    "<font size=5><b>2. קריאת קבצי CSV</b></font>\n",
    "</h1>\n",
    "\n",
    " כדי לייבא את נתוני הניסוי מתוך קובץ הCSV למחברת זו, יש להמיר את הדאטא לייצוג קריא ונוח חישובית. במחברת זו נייצג את הנתונים בתור אובייקט  DataFrames. נדפיס כאן לפניכם את 5 השורות הראשונות.\n",
    "\n",
    " הערה: וודאו שאתם אכן מעלים את קובץ הנתונים שלכם לתיקיה הראשית (\"content/\"), ע\"י גרירת הקובץ למקום המתאים.\n",
    " כמו כן וודאו שהעמודות מכילות כותרות.\n",
    "\n",
    "---"
   ]
  },
  {
   "cell_type": "code",
   "execution_count": 5,
   "metadata": {
    "colab": {
     "base_uri": "https://localhost:8080/",
     "height": 204
    },
    "executionInfo": {
     "elapsed": 43,
     "status": "ok",
     "timestamp": 1741526373031,
     "user": {
      "displayName": "Tom Sayada",
      "userId": "05893308858574496098"
     },
     "user_tz": -120
    },
    "id": "ASraNK9keSs_",
    "outputId": "a3c56139-24ba-46b7-fc95-2eb77d2741de"
   },
   "outputs": [
    {
     "data": {
      "text/html": [
       "<div>\n",
       "<style scoped>\n",
       "    .dataframe tbody tr th:only-of-type {\n",
       "        vertical-align: middle;\n",
       "    }\n",
       "\n",
       "    .dataframe tbody tr th {\n",
       "        vertical-align: top;\n",
       "    }\n",
       "\n",
       "    .dataframe thead th {\n",
       "        text-align: right;\n",
       "    }\n",
       "</style>\n",
       "<table border=\"1\" class=\"dataframe\">\n",
       "  <thead>\n",
       "    <tr style=\"text-align: right;\">\n",
       "      <th></th>\n",
       "      <th>T[C]</th>\n",
       "      <th>Delta T</th>\n",
       "      <th>V[mV]</th>\n",
       "      <th>ΔV</th>\n",
       "    </tr>\n",
       "  </thead>\n",
       "  <tbody>\n",
       "    <tr>\n",
       "      <th>0</th>\n",
       "      <td>87.475</td>\n",
       "      <td>0.054</td>\n",
       "      <td>3.70</td>\n",
       "      <td>0.021110</td>\n",
       "    </tr>\n",
       "    <tr>\n",
       "      <th>1</th>\n",
       "      <td>82.108</td>\n",
       "      <td>0.054</td>\n",
       "      <td>3.44</td>\n",
       "      <td>0.021032</td>\n",
       "    </tr>\n",
       "    <tr>\n",
       "      <th>2</th>\n",
       "      <td>76.708</td>\n",
       "      <td>0.054</td>\n",
       "      <td>3.18</td>\n",
       "      <td>0.020954</td>\n",
       "    </tr>\n",
       "    <tr>\n",
       "      <th>3</th>\n",
       "      <td>72.300</td>\n",
       "      <td>0.054</td>\n",
       "      <td>2.97</td>\n",
       "      <td>0.020891</td>\n",
       "    </tr>\n",
       "    <tr>\n",
       "      <th>4</th>\n",
       "      <td>69.008</td>\n",
       "      <td>0.054</td>\n",
       "      <td>2.81</td>\n",
       "      <td>0.020843</td>\n",
       "    </tr>\n",
       "  </tbody>\n",
       "</table>\n",
       "</div>"
      ],
      "text/plain": [
       "     T[C]  Delta T  V[mV]        ΔV\n",
       "0  87.475    0.054   3.70  0.021110\n",
       "1  82.108    0.054   3.44  0.021032\n",
       "2  76.708    0.054   3.18  0.020954\n",
       "3  72.300    0.054   2.97  0.020891\n",
       "4  69.008    0.054   2.81  0.020843"
      ]
     },
     "execution_count": 5,
     "metadata": {},
     "output_type": "execute_result"
    }
   ],
   "source": [
    "file_path = r\"/Users/eliehabib/Desktop/school/Lab/Reports/Lab-Reports/Thermo-couple/temp.xlsx\" # Replace with your file path: r\"/content/<your file name>.xlsx\"\n",
    "sheet_number = 0 # Replace with your sheet number (1st sheet = 0)\n",
    "data = pd.read_excel(file_path, sheet_name=sheet_number)\n",
    "data[:5]"
   ]
  },
  {
   "cell_type": "markdown",
   "metadata": {
    "id": "PbZC2HzOO4qt"
   },
   "source": [
    "<div dir=\"rtl\" lang=\"he\" xml:lang=\"he\">\n",
    "\n",
    "---\n",
    "<h1>\n",
    "<font size=5><b>3. בחירת x, $\\Delta$x, y, $\\Delta$y </b></font>\n",
    "</h1>\n",
    "\n",
    "כעת, נבחר את העמודות המתאימות מתוך הנתונים, לשם ביצוע ההתאמה. ניתן לבחור את העמודות לפי שם (השורה הראשונה בעמודה) או לחילופין לפי האינדקס של העמודה (0, 1, 2...). שוב, נדפיס את השורות הראשונות מתוך העמודות שנבחרו.\n",
    "\n",
    "---"
   ]
  },
  {
   "cell_type": "code",
   "execution_count": 6,
   "metadata": {
    "executionInfo": {
     "elapsed": 5,
     "status": "ok",
     "timestamp": 1741526375361,
     "user": {
      "displayName": "Tom Sayada",
      "userId": "05893308858574496098"
     },
     "user_tz": -120
    },
    "id": "ejCn5lquvbCb"
   },
   "outputs": [],
   "source": [
    "def choose_columns(columns):\n",
    "    x = data.iloc[:,columns[0]]\n",
    "    delta_x = data.iloc[:,columns[1]]\n",
    "    y = data.iloc[:,columns[2]]\n",
    "    delta_y = data.iloc[:,columns[3]]\n",
    "    return x, delta_x, y, delta_y"
   ]
  },
  {
   "cell_type": "markdown",
   "metadata": {
    "id": "kRypfrJAPub8"
   },
   "source": [
    "<div dir=\"rtl\" lang=\"he\" xml:lang=\"he\">\n",
    "\n",
    "---\n",
    "<h1>\n",
    "<font size=5><b>4. התאמה לנתונים</b></font>\n",
    "</h1>\n",
    "\n",
    "נשתמש באלגוריתם ODR (או Orthogonal Distance Regression) לביצוע ההתאמה. אלגוריתם זה מתאים במקרה של תלות בין משתנים. בניגוד לבעיית המינימיזציה הסטנדרטית בשארים הפחותים, שם ההתחיסות הינה רק למרחק האנכי בין נקודות הדאטא וקו ההתאמה, ODR מבצע מינימיזציה ביחס למרחק האורתוגונלי, מה שמטייב את ההתאמה.\n",
    "מתודת ODR מתוך הספריה SciPy מצריך הגדרת פונקציית התאמה ומתן ניחושים התחלתיים לפרמטרים. ראו להלן מספר פונקציות התאמה שימושיות, לדוגמא.\n",
    "\n",
    "---"
   ]
  },
  {
   "cell_type": "code",
   "execution_count": 7,
   "metadata": {
    "executionInfo": {
     "elapsed": 2,
     "status": "ok",
     "timestamp": 1741526376965,
     "user": {
      "displayName": "Tom Sayada",
      "userId": "05893308858574496098"
     },
     "user_tz": -120
    },
    "id": "kicH6R-Ahib8"
   },
   "outputs": [],
   "source": [
    "def function(A, x):\n",
    "    pass # Define your function. See some examples below.\n",
    "\n",
    "def linear(A, x):\n",
    "    return A[1] * x + A[0]\n",
    "\n",
    "def parabolic(A, x):\n",
    "    return A[3] * x**3 + A[2] * x**2 + A[1] * x + A[0]\n",
    "\n",
    "def optics(A, x):\n",
    "    return A[1] * x / (x - A[1]) + A[0]\n",
    "\n",
    "def exponential(A, x):\n",
    "    return A[2] * np.exp(A[1] * x) + A[0]\n",
    "\n",
    "def sinusoidal(A, x):\n",
    "    return A[3] * np.sin(A[1] * x + A[2]) + A[0]"
   ]
  },
  {
   "cell_type": "markdown",
   "metadata": {
    "id": "lslrXFiORzyM"
   },
   "source": [
    "<div dir=\"rtl\" lang=\"he\" xml:lang=\"he\">\n",
    " תוכלו להתנסות בבחירת פונקציות התאמה שונות וניחושים התחלתיים שונים:"
   ]
  },
  {
   "cell_type": "markdown",
   "metadata": {
    "id": "eR-iVSf1SA6v"
   },
   "source": [
    "<div dir=\"rtl\" lang=\"he\" xml:lang=\"he\">\n",
    " כעת, נבצע התאמה לנתונים לפי המודל הפונקציונלי הנבחר, באמצעות אלגוריתם ODR:"
   ]
  },
  {
   "cell_type": "code",
   "execution_count": 8,
   "metadata": {
    "executionInfo": {
     "elapsed": 4,
     "status": "ok",
     "timestamp": 1741526379226,
     "user": {
      "displayName": "Tom Sayada",
      "userId": "05893308858574496098"
     },
     "user_tz": -120
    },
    "id": "sAc0ol7MSf-r"
   },
   "outputs": [],
   "source": [
    "def odr_fit(fit_func, initial_guesses, x, delta_x, y, delta_y):\n",
    "    model = Model(fit_func)\n",
    "    odr_data = RealData(x, y, sx=delta_x, sy=delta_y)\n",
    "    odr = ODR(data=odr_data, model=model, beta0=initial_guesses)\n",
    "    output = odr.run()\n",
    "\n",
    "    fit_params = output.beta\n",
    "    fit_params_error = output.sd_beta\n",
    "    fit_cov = output.cov_beta\n",
    "    return fit_params, fit_params_error, fit_cov, output"
   ]
  },
  {
   "cell_type": "markdown",
   "metadata": {
    "id": "lO8Ohfd2Sj-a"
   },
   "source": [
    "<div dir=\"rtl\" lang=\"he\" xml:lang=\"he\">\n",
    "\n",
    "ננתח את הפלט של אלגוריתם ODR:\n",
    "\n",
    "1. `fit_params`:\n",
    "\n",
    "הפרמטרים המשוערים של המודל. אלו הם הערכים האופטימליים של הפרמטרים, המתאימים ביותר לנתונים לפי אלגוריתם ODR. הפרמטרים ניתנים לפי אינדקס בסדר עולה: $a_0,a_1,a_2,...$\n",
    "2. `fit_params_error`:\n",
    "\n",
    "השגיאה של הפרמטרים המשוערים. ערכים אלו מצביעים על אי הוודאות או השונות באומדני הפרמטרים. שגיאות הפרמטרים ניתנות לפי אינדקס בסדר עולה: $\\Delta a_0,\\Delta a_1,\\Delta a_2,...$\n",
    "3. `fit_cov`:\n",
    "\n",
    "מטריצת השונות של הפרמטרים המשוערים. מטריצה ​​זו מספקת מידע על הקורלציה בין צמדי פרמטרים והשונות המשותפת שלהם:\n",
    "\n",
    "\\begin{bmatrix}\n",
    "\\text{Cov}(a_0, a_0) & \\text{Cov}(a_0, a_1) & \\text{Cov}(a_0, \\dots) \\\\\n",
    "\\text{Cov}(a_1, a_0) & \\text{Cov}(a_1, a_1) & \\text{Cov}(a_1, \\dots) \\\\\n",
    "\\text{Cov}(\\dots, a_0) & \\text{Cov}(\\dots, a_1) & \\text{Cov}(\\dots, \\dots)\n",
    "\\end{bmatrix}"
   ]
  },
  {
   "cell_type": "markdown",
   "metadata": {
    "id": "wFP5ei15BXDR"
   },
   "source": [
    "<div dir=\"rtl\" lang=\"he\" xml:lang=\"he\">\n",
    "\n",
    "---\n",
    "<h1>\n",
    "<font size=5><b>5. חישוב השארים והמדדים הסטטיסטיים</b></font>\n",
    "</h1>\n",
    "\n",
    "נחשב את ערכי השארים (residuals) ואת $\\chi^2_{red}, p-value$, באופן מפורש.\n",
    "\n",
    "---"
   ]
  },
  {
   "cell_type": "code",
   "execution_count": 9,
   "metadata": {
    "executionInfo": {
     "elapsed": 1,
     "status": "ok",
     "timestamp": 1741526380459,
     "user": {
      "displayName": "Tom Sayada",
      "userId": "05893308858574496098"
     },
     "user_tz": -120
    },
    "id": "jtj85kmwxRYl"
   },
   "outputs": [],
   "source": [
    "def calc_stats(x, y, fit_params, output):\n",
    "    residuals = y - fit_func(fit_params, x)\n",
    "    degrees_of_freedom = len(x) - len(fit_params)\n",
    "    chi2 = output.sum_square\n",
    "    chi2_red = chi2/degrees_of_freedom\n",
    "    p_val = stats.chi2.sf(chi2, degrees_of_freedom)\n",
    "    return residuals, degrees_of_freedom, chi2_red, p_val"
   ]
  },
  {
   "cell_type": "markdown",
   "metadata": {
    "id": "2E3apqLkD_50"
   },
   "source": [
    "<div dir=\"rtl\" lang=\"he\" xml:lang=\"he\">\n",
    "\n",
    "נסביר את משמעות הערכים שהדפסנו:\n",
    "\n",
    "1. `residuals`:\n",
    "\n",
    "שארים מתארים את ההפרש בין ערכי הנתונים והערכים החזויים מהמודל. הם מציינים עד כמה המודל מתאים לכל נקודת נתונים בודדת. הפרשים קטנים מעידים על התאמה טובה, ולהיפך.\n",
    "\n",
    "2. `degrees_of_freedom`:\n",
    "\n",
    "דרגות חופש (DOF) בהקשר של מודל רגרסיה מתייחס למספר המדידות מהנתונים פחות מספר פרמטרי ההתאמה.\n",
    "\n",
    "3. `chi2_red`:\n",
    "\n",
    "חי בריבוע מצומצם ($\\chi^2_{red}$) הינו חי בריבוע חלקי מספר דרגות החופש. הוא מספק מדד למידת ההתאמה של המודל לנתונים, תוך התחשבות במספר הפרמטרים המוערכים. ערך קרוב ל-1 מצביע על התאמה טובה, בעוד שערכים גדולים או פחות מ-1 מצביעים על התאמה שאינה מיטבית.\n",
    "3. `p_val`:\n",
    "\n",
    "ערך ה-p נגזר מהתפלגות של חי בריבוע ומציין את ההסתברות לקבל ערך חי בריבוע\n",
    "הקטן בערכו מהערך שקיבלנו מההתאמה, ובמילים אחרות:\n",
    "$p[\\chi^2<\\chi^2_{fit}]$.\n",
    "\n",
    "ערך p בטווח >0.05 או < 0.95 מצביע על כך שהמודל מתאים היטב לנתונים, בעוד שערך p קיצוני, <0.05 או > 0.95 מצביע על כך שהמודל עשוי להיות לא מתאים.\n",
    "\n",
    "\n",
    "ערכים סטטיסטיים אלה יחד מספקים הערכה מקיפה של התאמת המודל הנבחר לנתונים, ומסייע לבחון את תקפות ההנחות השונות (ביחס לצורה הפונקציונלית של המודל, הערכת השגיאות, וכו...).\n",
    "    \n"
   ]
  },
  {
   "cell_type": "markdown",
   "metadata": {
    "id": "QDpcQxX_DsbW"
   },
   "source": [
    "<div dir=\"rtl\" lang=\"he\" xml:lang=\"he\">\n",
    "\n",
    "---\n",
    "<h1>\n",
    "<font size=5><b>6. הדפסת פרמטרי ההתאמה ושגיאותיהם, והמדדים הסטטיסטיים הרלוונטיים</b></font>\n",
    "</h1>\n",
    "\n",
    "---"
   ]
  },
  {
   "cell_type": "code",
   "execution_count": 10,
   "metadata": {
    "executionInfo": {
     "elapsed": 0,
     "status": "ok",
     "timestamp": 1741526381875,
     "user": {
      "displayName": "Tom Sayada",
      "userId": "05893308858574496098"
     },
     "user_tz": -120
    },
    "id": "Y2cXsCV1eHwQ"
   },
   "outputs": [],
   "source": [
    "def print_output(fit_params, fit_params_error, chi2_red, p_val, degrees_of_freedom):\n",
    "    for i in range(len(fit_params)):\n",
    "        print(f\"a[{i}]: {fit_params[i]} \\u00B1 {fit_params_error[i]} \")\n",
    "    print(f\"Chi Squared Reduced = {chi2_red:.5f} \")\n",
    "    print(f\"P-value = {p_val:.5e}\")\n",
    "    # print(f\"DOF = {degrees_of_freedom}\")"
   ]
  },
  {
   "cell_type": "markdown",
   "metadata": {
    "id": "tfrMJ4I2oao4"
   },
   "source": [
    "<div dir=\"rtl\" lang=\"he\" xml:lang=\"he\">\n",
    "\n",
    "כעת, נבצע את כל תהליך ביצוע ההתאמה והחישובים הנלווים, בבת אחת, ע\"י קריאה לכל הפונקציות שראינו לעיל. ראשית נבחר את העמודות הרלוונטיות ונשרטט את הדאטא בלבד (אנא עשו בדיקת שפיות: האם זו התצורה שציפיתם לקבל?):"
   ]
  },
  {
   "cell_type": "code",
   "execution_count": 11,
   "metadata": {
    "colab": {
     "base_uri": "https://localhost:8080/",
     "height": 484
    },
    "executionInfo": {
     "elapsed": 314,
     "status": "ok",
     "timestamp": 1741526543541,
     "user": {
      "displayName": "Tom Sayada",
      "userId": "05893308858574496098"
     },
     "user_tz": -120
    },
    "id": "MHRWWVgtDDrA",
    "outputId": "d6de51b1-842d-4ad2-beeb-62efd32d9085"
   },
   "outputs": [
    {
     "data": {
      "image/png": "[encoded data removed]",
      "text/plain": [
       "<Figure size 600x600 with 1 Axes>"
      ]
     },
     "metadata": {},
     "output_type": "display_data"
    }
   ],
   "source": [
    "columns = [0, 1, 2, 3] # Define the columns indices to represent x, delta x, y, delta y.\n",
    "x, delta_x, y, delta_y = choose_columns(columns)\n",
    "\n",
    "plt.close('all')\n",
    "fig, ax = plt.subplots(1, 1, figsize=(6, 6))\n",
    "plt.style.use('classic')\n",
    "\n",
    "fig.patch.set_facecolor('white')\n",
    "ax.set_facecolor('white')\n",
    "\n",
    "ax.errorbar(x, y, xerr=delta_x, yerr=delta_y, fmt='.b', label='default label', ecolor='gray') # Change the label\n",
    "\n",
    "\n",
    "ax.set_title('Data - add here the full title')  # Add here the full title for the fit\n",
    "ax.set_xlabel('x-axis label') # Change x-axis label\n",
    "ax.set_ylabel('y-axis label') # Change y-axis label\n",
    "\n",
    "ax.grid(True)\n",
    "ax.legend()\n",
    "\n",
    "ax.ticklabel_format(style='plain', useOffset=False, axis='y')\n",
    "\n",
    "plt.tight_layout()\n",
    "plt.show()"
   ]
  },
  {
   "cell_type": "code",
   "execution_count": 12,
   "metadata": {
    "colab": {
     "base_uri": "https://localhost:8080/"
    },
    "executionInfo": {
     "elapsed": 9,
     "status": "ok",
     "timestamp": 1741526396750,
     "user": {
      "displayName": "Tom Sayada",
      "userId": "05893308858574496098"
     },
     "user_tz": -120
    },
    "id": "LdInPaImlOAL",
    "outputId": "05538695-7c4d-4d6b-f142-644278d0e6cf"
   },
   "outputs": [
    {
     "name": "stdout",
     "output_type": "stream",
     "text": [
      "a[0]: -0.029384709439221314 ± 0.0720815058548782 \n",
      "a[1]: 0.04326042354880512 ± 0.0014095343349905041 \n",
      "a[2]: 0.0 ± 0.0 \n",
      "a[3]: 0.0 ± 0.0 \n",
      "Chi Squared Reduced = 51.01881 \n",
      "P-value = 2.00862e-173\n"
     ]
    }
   ],
   "source": [
    "fit_func = linear # Choose your fit function name\n",
    "initial_guesses = (0, 0, 0, 0) # Define the initial guesses for the parameters in list \"A\" (make sure they are the same length, and in the same order!)\n",
    "fit_params, fit_params_error, fit_cov, output = odr_fit(fit_func, initial_guesses, x, delta_x, y, delta_y)\n",
    "residuals, degrees_of_freedom, chi2_red, p_val = calc_stats(x, y, fit_params, output)\n",
    "print_output(fit_params, fit_params_error, chi2_red, p_val, degrees_of_freedom)"
   ]
  },
  {
   "cell_type": "markdown",
   "metadata": {
    "id": "XP99GHwU_-l_"
   },
   "source": [
    "<div dir=\"rtl\" lang=\"he\" xml:lang=\"he\">\n",
    "<font size=5 color=\"red\"> אופציונאלי:</font>\n",
    "נדפיס את הפלט הסטנדרטי המלא, לקבלת מידע מלא יותר על תהליך ביצוע ההתאמה (לפירוט, ראו את הדוקומנטציה)."
   ]
  },
  {
   "cell_type": "markdown",
   "metadata": {
    "id": "TuM9MvGcPs9z"
   },
   "source": [
    "[דוקומנטציה](https://docs.scipy.org/doc/scipy/reference/generated/scipy.odr.Output.html)"
   ]
  },
  {
   "cell_type": "code",
   "execution_count": 13,
   "metadata": {
    "colab": {
     "base_uri": "https://localhost:8080/"
    },
    "executionInfo": {
     "elapsed": 5,
     "status": "ok",
     "timestamp": 1739987808070,
     "user": {
      "displayName": "Tom Sayada",
      "userId": "05893308858574496098"
     },
     "user_tz": -120
    },
    "id": "JTHFlMxNTg3F",
    "outputId": "3ade8c47-92d5-49df-de39-74de4aebcd84"
   },
   "outputs": [
    {
     "name": "stdout",
     "output_type": "stream",
     "text": [
      "Beta: [-0.02938471  0.04326042  0.          0.        ]\n",
      "Beta Std Error: [0.07208151 0.00140953 0.         0.        ]\n",
      "Beta Covariance: [[ 1.13820916e-04 -2.01610743e-06  0.00000000e+00  0.00000000e+00]\n",
      " [-2.01610743e-06  4.35236886e-08  0.00000000e+00  0.00000000e+00]\n",
      " [ 0.00000000e+00  0.00000000e+00  0.00000000e+00  0.00000000e+00]\n",
      " [ 0.00000000e+00  0.00000000e+00  0.00000000e+00  0.00000000e+00]]\n",
      "Residual Variance: 45.6484068051313\n",
      "Inverse Condition #: 0.008206326743601444\n",
      "Reason(s) for Halting:\n",
      "  Problem is not full rank at solution\n",
      "  Sum of squares convergence\n"
     ]
    }
   ],
   "source": [
    "output.pprint()"
   ]
  },
  {
   "cell_type": "markdown",
   "metadata": {
    "id": "nK3M_I8YCn3e"
   },
   "source": [
    "<div dir=\"rtl\" lang=\"he\" xml:lang=\"he\">\n",
    "\n",
    "---\n",
    "<h1>\n",
    "<font size=5><b>7. שרטוט גרף הנתונים, פונקציית ההתאמה, וגרף השארים</b></font>\n",
    "</h1>\n",
    "\n",
    "נשרטט את ערכי הנתונים ושגיאותיהם (שימו לב שגם השגיאה בציר x משורטטת באיור זה, אם כי בשל מימדיה הקטנים היא לא נראית בבירור בגרף), ואת פונקציית ההתאמה שחישבנו ביחס אליהם, באיור השמאלי, ואילו את גרף השארים באיור הימני. תוכלו לשנות ולהתאים את פסקת הקוד הבאה לצרכיכם ולטעמכם, וכן להוסיף עוד עקומות במידת הנדרש. שימו לב שעליכם לערוך את הכותרות הראשיות לגרפים, כותרות הצירים, ולהוסיף יחידות.\n",
    "\n",
    "---"
   ]
  },
  {
   "cell_type": "code",
   "execution_count": 15,
   "metadata": {
    "colab": {
     "base_uri": "https://localhost:8080/",
     "height": 484
    },
    "executionInfo": {
     "elapsed": 469,
     "status": "ok",
     "timestamp": 1741526400426,
     "user": {
      "displayName": "Tom Sayada",
      "userId": "05893308858574496098"
     },
     "user_tz": -120
    },
    "id": "yEine9uBgTr1",
    "outputId": "394aa1c1-0f38-4d5e-99a6-1e8d2c591762"
   },
   "outputs": [
    {
     "data": {
      "image/png": "[encoded data removed]",
      "text/plain": [
       "<Figure size 1200x480 with 2 Axes>"
      ]
     },
     "metadata": {},
     "output_type": "display_data"
    }
   ],
   "source": [
    "plt.close('all')\n",
    "fig, axs = plt.subplots(1, 2, figsize=(15, 6))\n",
    "plt.style.use('classic')\n",
    "\n",
    "fig.patch.set_facecolor('white')\n",
    "for ax in axs:\n",
    "    ax.set_facecolor('white')\n",
    "\n",
    "x_fit = np.linspace(min(x), max(x), 10*len(x))\n",
    "y_fit = fit_func(fit_params, x_fit)\n",
    "axs[0].errorbar(x, y, xerr=delta_x, yerr=delta_y, fmt='.b', label='default label', ecolor='gray') # Change the label\n",
    "axs[0].plot(x_fit, y_fit, label='default label', c='r', alpha=0.5) # Change the label\n",
    "\n",
    "# If you want to plot multiple functions, change here the relevant parameters (x, y, xerr, yerr, label). Otherwise, uncomment the 2 next lines:\n",
    "#axs[0].errorbar(x + 0.2, y + 0.3, xerr=delta_x, yerr=delta_y, fmt='.g', label='Data', ecolor='gray')\n",
    "#axs[0].plot(x_fit + 0.2, y_fit + 0.3, label='Fit', c='k', alpha=0.5)\n",
    "\n",
    "axs[0].set_title(' ')  # Add here the full title for the fit\n",
    "axs[0].set_xlabel('T') # Change x-axis label if needed\n",
    "axs[0].set_ylabel('V') # Change y-axis label if needed\n",
    "\n",
    "axs[0].grid(True)\n",
    "axs[0].legend()\n",
    "\n",
    "axs[1].errorbar(x, residuals, xerr=delta_x, yerr=delta_y, fmt='.b', label=\"Data\", ecolor='gray')\n",
    "axs[1].hlines(0, min(x), max(x), colors='r', linestyles='dashed')\n",
    "\n",
    "axs[1].set_title('') # Add here the full title for the residuals\n",
    "axs[1].set_xlabel('Error T') # Change column names\n",
    "axs[1].set_ylabel('Error V') # Change column names if needed\n",
    "\n",
    "axs[1].grid(True)\n",
    "axs[1].legend()\n",
    "\n",
    "for ax in axs:\n",
    "    ax.get_yaxis().get_major_formatter().set_useOffset(False)\n",
    "\n",
    "\n",
    "plt.tight_layout()\n",
    "plt.show()"
   ]
  },
  {
   "cell_type": "code",
   "execution_count": null,
   "metadata": {},
   "outputs": [],
   "source": []
  },
  {
   "cell_type": "code",
   "execution_count": null,
   "metadata": {},
   "outputs": [],
   "source": []
  }
 ],
 "metadata": {
  "colab": {
   "provenance": []
  },
  "kernelspec": {
   "display_name": "jupyter_env",
   "language": "python",
   "name": "python3"
  },
  "language_info": {
   "codemirror_mode": {
    "name": "ipython",
    "version": 3
   },
   "file_extension": ".py",
   "mimetype": "text/x-python",
   "name": "python",
   "nbconvert_exporter": "python",
   "pygments_lexer": "ipython3",
   "version": "3.11.11"
  }
 },
 "nbformat": 4,
 "nbformat_minor": 4
}
